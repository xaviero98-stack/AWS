{
 "cells": [
  {
   "cell_type": "code",
   "execution_count": 1,
   "metadata": {
    "execution": {
     "iopub.execute_input": "2025-08-23T11:24:28.268596Z",
     "iopub.status.busy": "2025-08-23T11:24:28.268315Z",
     "iopub.status.idle": "2025-08-23T11:24:35.092306Z",
     "shell.execute_reply": "2025-08-23T11:24:35.090789Z",
     "shell.execute_reply.started": "2025-08-23T11:24:28.268572Z"
    }
   },
   "outputs": [
    {
     "name": "stdout",
     "output_type": "stream",
     "text": [
      "Collecting Faker\n",
      "  Downloading faker-37.5.3-py3-none-any.whl.metadata (15 kB)\n",
      "Requirement already satisfied: tzdata in /opt/conda/lib/python3.12/site-packages (from Faker) (2025.2)\n",
      "Downloading faker-37.5.3-py3-none-any.whl (1.9 MB)\n",
      "\u001b[2K   \u001b[90m━━━━━━━━━━━━━━━━━━━━━━━━━━━━━━━━━━━━━━━━\u001b[0m \u001b[32m1.9/1.9 MB\u001b[0m \u001b[31m104.5 MB/s\u001b[0m  \u001b[33m0:00:00\u001b[0m\n",
      "\u001b[?25hInstalling collected packages: Faker\n",
      "Successfully installed Faker-37.5.3\n"
     ]
    }
   ],
   "source": [
    "!pip install Faker\n",
    "\n",
    "import pandas as pd\n",
    "from faker import Faker\n",
    "import uuid\n",
    "import boto3\n",
    "from boto3.dynamodb.conditions import Key, Attr\n",
    "import sys\n",
    "import csv\n",
    "from decimal import Decimal\n",
    "import decimal\n",
    "import io\n",
    "from io import StringIO\n",
    "\n",
    "df_test_data = pd.read_csv('test_data.csv')\n",
    "\n",
    "fake = Faker('en_US')\n",
    "dynamodb = boto3.resource('dynamodb')\n",
    "tableName = 'company'\n",
    "filename = './test_data.csv' # FIXME\n",
    "csvfile = open(filename)\n",
    "\n",
    "def write_to_dynamo(rows):\n",
    "    table = dynamodb.Table(tableName)        \n",
    "    with table.batch_writer() as batch:\n",
    "        for index, row in df_test_data.iterrows():\n",
    "            batch.put_item(\n",
    "                Item={\n",
    "                    'id': str(uuid.uuid4()),\n",
    "                    'company_name': fake.company(),\n",
    "                    'rating': None,\n",
    "                    'rating_date': None,\n",
    "                    'MDNA': row['MDNA'],\n",
    "                    'industry_code': row['industry_code'],\n",
    "                    'A': (str(row['A'])),\n",
    "                    'B': (str(row['B'])),\n",
    "                    'C': (str(row['C'])),\n",
    "                    'D': (str(row['D'])),\n",
    "                    'E': (str(row['E'])),\n",
    "                    'positive': (str(row['positive'])),\n",
    "                    'negative': (str(row['negative'])),\n",
    "                    'certainty': (str(row['certainty'])),\n",
    "                    'uncertainty': (str(row['uncertainty'])),\n",
    "                    'risk': (str(row['risk'])),\n",
    "                    'safe': (str(row['safe'])),\n",
    "                    'litigious': (str(row['litigious'])),\n",
    "                    'fraud': (str(row['fraud'])),\n",
    "                    'sentiment': (str(row['sentiment'])),\n",
    "                    'polarity': (str(row['polarity'])),\n",
    "                    'readability': (str(row['readability']))\n",
    "                }\n",
    "            )\n",
    "\n",
    "write_to_dynamo(csv.DictReader(csvfile))"
   ]
  },
  {
   "cell_type": "code",
   "execution_count": null,
   "metadata": {},
   "outputs": [],
   "source": []
  }
 ],
 "metadata": {
  "instance_type": "ml.t3.medium",
  "kernelspec": {
   "display_name": "Python 3 (ipykernel)",
   "language": "python",
   "name": "python3"
  },
  "language_info": {
   "codemirror_mode": {
    "name": "ipython",
    "version": 3
   },
   "file_extension": ".py",
   "mimetype": "text/x-python",
   "name": "python",
   "nbconvert_exporter": "python",
   "pygments_lexer": "ipython3",
   "version": "3.12.9"
  }
 },
 "nbformat": 4,
 "nbformat_minor": 4
}
